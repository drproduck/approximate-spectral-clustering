{
 "cells": [
  {
   "cell_type": "code",
   "execution_count": 77,
   "metadata": {},
   "outputs": [
    {
     "name": "stdout",
     "output_type": "stream",
     "text": [
      "startup ok\n"
     ]
    }
   ],
   "source": [
    "clear;\n",
    "run('../startup')\n",
    "load('circledata_50')"
   ]
  },
  {
   "cell_type": "code",
   "execution_count": 78,
   "metadata": {},
   "outputs": [
    {
     "name": "stdout",
     "output_type": "stream",
     "text": [
      "\n",
      "sigma =\n",
      "\n",
      "   3.2072e+03\n",
      "\n"
     ]
    }
   ],
   "source": [
    "sigma = estimate_sigma_knn(fea, 7, 100)"
   ]
  },
  {
   "cell_type": "code",
   "execution_count": 79,
   "metadata": {},
   "outputs": [
    {
     "name": "stderr",
     "output_type": "stream",
     "text": [
      "using gaussian affinity\n",
      "selecting landmarks using random sampling\n",
      "done in 0.00 seconds\n",
      "using sigma = 3207.21\n",
      "constructing sparse A...\n",
      "done in 0.01 seconds\n",
      "Computing Laplacian and diffusion map...\n",
      "Done in 0.11 seconds\n",
      "Clustering result embeddings...\n",
      "Done in 0.01 seconds\n",
      "using gaussian affinity\n",
      "selecting landmarks using given rep points\n",
      "done in 0.00 seconds\n",
      "using sigma = 3207.21\n",
      "constructing sparse A...\n",
      "done in 0.01 seconds\n",
      "Computing Laplacian and diffusion map...\n",
      "Done in 0.06 seconds\n",
      "Clustering result embeddings...\n",
      "Done in 0.01 seconds\n"
     ]
    }
   ],
   "source": [
    "n_iter = 2;\n",
    "r = [500, 200, 200];\n",
    "select = {'uniform', 'given', 'given'};\n",
    "reps = [];\n",
    "labels = zeros(length(fea), n_iter);\n",
    "for it = 1:n_iter\n",
    "    select_method = select{it};\n",
    "    lb = LBDM(fea, 2, r(it), 5, 2, 'gaussian', 'select_method', select_method, 'sigma', sigma, 'reps', reps, 'fileid', 2);\n",
    "    labels(:,it) = lb;\n",
    "    reps = reps_by_class(fea, labels(:,it), 100);\n",
    "end"
   ]
  },
  {
   "cell_type": "code",
   "execution_count": 80,
   "metadata": {},
   "outputs": [
    {
     "name": "stdout",
     "output_type": "stream",
     "text": [
      "\n",
      "ans =\n",
      "\n",
      "    0.9130\n",
      "\n",
      "\n",
      "ans =\n",
      "\n",
      "    0.9265\n",
      "\n"
     ]
    }
   ],
   "source": [
    "for it = 1:n_iter\n",
    "    labels(:,it) = bestMap(gnd, labels(:,it));\n",
    "    sum(labels(:,it) == gnd) / length(gnd)\n",
    "end"
   ]
  },
  {
   "cell_type": "code",
   "execution_count": null,
   "metadata": {},
   "outputs": [],
   "source": []
  }
 ],
 "metadata": {
  "kernelspec": {
   "display_name": "MATLAB",
   "language": "matlab",
   "name": "imatlab"
  },
  "language_info": {
   "codemirror_mode": "octave",
   "file_extension": ".m",
   "mimetype": "text/x-matlab",
   "name": "matlab",
   "nbconvert_exporter": "imatlab._exporter.MatlabExporter",
   "pygments_lexer": "matlab",
   "version": "9.2.0.556344 (R2017a)"
  }
 },
 "nbformat": 4,
 "nbformat_minor": 2
}
